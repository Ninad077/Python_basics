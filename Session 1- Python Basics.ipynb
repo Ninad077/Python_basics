{
 "cells": [
  {
   "cell_type": "markdown",
   "id": "761c4b85",
   "metadata": {},
   "source": [
    "# Session-1: Python basics"
   ]
  },
  {
   "cell_type": "markdown",
   "id": "52d72b3c",
   "metadata": {},
   "source": [
    "Functions"
   ]
  },
  {
   "cell_type": "code",
   "execution_count": 1,
   "id": "0bc94d6e",
   "metadata": {},
   "outputs": [],
   "source": [
    "# Function performs a particular task\n",
    "# identification ----> function()"
   ]
  },
  {
   "cell_type": "code",
   "execution_count": 2,
   "id": "d7fde19a",
   "metadata": {},
   "outputs": [
    {
     "name": "stdout",
     "output_type": "stream",
     "text": [
      "Hello world\n"
     ]
    }
   ],
   "source": [
    "print('Hello world')"
   ]
  },
  {
   "cell_type": "markdown",
   "id": "f33136d2",
   "metadata": {},
   "source": [
    "Variables"
   ]
  },
  {
   "cell_type": "code",
   "execution_count": 3,
   "id": "9b6c3e9a",
   "metadata": {},
   "outputs": [],
   "source": [
    "# Variables are used to store the values\n",
    "# Variables are case sensitive and can be any text with a special character. However, we can oly use '_' as the special charcter.\n",
    "# Variables should always be in the form of text preceding the number and not vice-versa"
   ]
  },
  {
   "cell_type": "code",
   "execution_count": 4,
   "id": "6ee7ce40",
   "metadata": {},
   "outputs": [],
   "source": [
    "a = 12\n"
   ]
  },
  {
   "cell_type": "code",
   "execution_count": 5,
   "id": "6d28ea89",
   "metadata": {},
   "outputs": [
    {
     "data": {
      "text/plain": [
       "12"
      ]
     },
     "execution_count": 5,
     "metadata": {},
     "output_type": "execute_result"
    }
   ],
   "source": [
    "a"
   ]
  },
  {
   "cell_type": "code",
   "execution_count": 6,
   "id": "0889da10",
   "metadata": {},
   "outputs": [],
   "source": [
    "b = 10"
   ]
  },
  {
   "cell_type": "code",
   "execution_count": 7,
   "id": "1d8119c7",
   "metadata": {},
   "outputs": [],
   "source": [
    "d = a+ b\n"
   ]
  },
  {
   "cell_type": "code",
   "execution_count": 8,
   "id": "3acba673",
   "metadata": {},
   "outputs": [
    {
     "data": {
      "text/plain": [
       "22"
      ]
     },
     "execution_count": 8,
     "metadata": {},
     "output_type": "execute_result"
    }
   ],
   "source": [
    "d"
   ]
  },
  {
   "cell_type": "code",
   "execution_count": 10,
   "id": "81245480",
   "metadata": {},
   "outputs": [],
   "source": [
    "D = 20"
   ]
  },
  {
   "cell_type": "code",
   "execution_count": 11,
   "id": "846129be",
   "metadata": {},
   "outputs": [
    {
     "data": {
      "text/plain": [
       "20"
      ]
     },
     "execution_count": 11,
     "metadata": {},
     "output_type": "execute_result"
    }
   ],
   "source": [
    "D"
   ]
  },
  {
   "cell_type": "code",
   "execution_count": 12,
   "id": "ce147bec",
   "metadata": {},
   "outputs": [],
   "source": [
    "a9 = 7"
   ]
  },
  {
   "cell_type": "code",
   "execution_count": 13,
   "id": "550bfb22",
   "metadata": {},
   "outputs": [
    {
     "data": {
      "text/plain": [
       "7"
      ]
     },
     "execution_count": 13,
     "metadata": {},
     "output_type": "execute_result"
    }
   ],
   "source": [
    "a9\n"
   ]
  },
  {
   "cell_type": "markdown",
   "id": "9e0d673d",
   "metadata": {},
   "source": [
    "Data types in Python"
   ]
  },
  {
   "cell_type": "code",
   "execution_count": 16,
   "id": "623048f9",
   "metadata": {},
   "outputs": [],
   "source": [
    "#Integer ------> int -----------> 1,2,3,4,..\n",
    "#Float ------> float -----------> 1.0, 2.0, 3.5, 4.7....\n",
    "#Boolean ------> bool-----------> True, False\n",
    "#String ------> str ------------> \"abc\",'abc'\n",
    "\n",
    "# Type function : type() returns the data type of the entered input."
   ]
  },
  {
   "cell_type": "code",
   "execution_count": 17,
   "id": "fea99be4",
   "metadata": {},
   "outputs": [
    {
     "name": "stdout",
     "output_type": "stream",
     "text": [
      "<class 'int'>\n"
     ]
    }
   ],
   "source": [
    "print(type(1))"
   ]
  },
  {
   "cell_type": "code",
   "execution_count": 18,
   "id": "dc3ceea9",
   "metadata": {},
   "outputs": [
    {
     "name": "stdout",
     "output_type": "stream",
     "text": [
      "<class 'bool'>\n"
     ]
    }
   ],
   "source": [
    "print(type(True))"
   ]
  },
  {
   "cell_type": "code",
   "execution_count": 19,
   "id": "d5491f2e",
   "metadata": {},
   "outputs": [
    {
     "name": "stdout",
     "output_type": "stream",
     "text": [
      "<class 'str'>\n"
     ]
    }
   ],
   "source": [
    "print(type('abc'))"
   ]
  },
  {
   "cell_type": "code",
   "execution_count": 20,
   "id": "77418045",
   "metadata": {},
   "outputs": [
    {
     "name": "stdout",
     "output_type": "stream",
     "text": [
      "<class 'float'>\n"
     ]
    }
   ],
   "source": [
    "print(type(1.2))"
   ]
  },
  {
   "cell_type": "markdown",
   "id": "f61e865d",
   "metadata": {},
   "source": [
    "Sequential Data types"
   ]
  },
  {
   "cell_type": "code",
   "execution_count": 24,
   "id": "fe5b7312",
   "metadata": {},
   "outputs": [],
   "source": [
    "# tuple ------> ()\n",
    "# list ------>  []\n",
    "# set ------>   {}\n",
    "# dict ------>  {}\n"
   ]
  },
  {
   "cell_type": "code",
   "execution_count": 22,
   "id": "164dbe30",
   "metadata": {},
   "outputs": [],
   "source": [
    "# List\n",
    "# List can contain any data type as well as another list in itself.\n",
    "mylist = [23, 23.5, \"abc\",[1,2], True]"
   ]
  },
  {
   "cell_type": "code",
   "execution_count": 23,
   "id": "56f6e34d",
   "metadata": {},
   "outputs": [
    {
     "name": "stdout",
     "output_type": "stream",
     "text": [
      "[23, 23.5, 'abc', [1, 2], True]\n"
     ]
    }
   ],
   "source": [
    "print(mylist)"
   ]
  },
  {
   "cell_type": "markdown",
   "id": "0d6434fe",
   "metadata": {},
   "source": [
    "Indexing"
   ]
  },
  {
   "cell_type": "code",
   "execution_count": 25,
   "id": "9bb25b88",
   "metadata": {},
   "outputs": [],
   "source": [
    "# Indexing can be of 2 type positive and negative indexing.\n",
    "# Positive Indexing in Python starts from 0 (left to right) while negative starts from -1 (right to left)"
   ]
  },
  {
   "cell_type": "code",
   "execution_count": 27,
   "id": "134531e5",
   "metadata": {},
   "outputs": [
    {
     "name": "stdout",
     "output_type": "stream",
     "text": [
      "[23, 23.5, 'abc', [1, 2], True]\n"
     ]
    }
   ],
   "source": [
    "print(mylist)"
   ]
  },
  {
   "cell_type": "code",
   "execution_count": 28,
   "id": "3c244603",
   "metadata": {},
   "outputs": [
    {
     "data": {
      "text/plain": [
       "'abc'"
      ]
     },
     "execution_count": 28,
     "metadata": {},
     "output_type": "execute_result"
    }
   ],
   "source": [
    "mylist [2]"
   ]
  },
  {
   "cell_type": "code",
   "execution_count": 30,
   "id": "86f42df1",
   "metadata": {},
   "outputs": [
    {
     "data": {
      "text/plain": [
       "2"
      ]
     },
     "execution_count": 30,
     "metadata": {},
     "output_type": "execute_result"
    }
   ],
   "source": [
    "mylist [3][1]"
   ]
  },
  {
   "cell_type": "markdown",
   "id": "78d947d7",
   "metadata": {},
   "source": [
    "Slicing"
   ]
  },
  {
   "cell_type": "code",
   "execution_count": 31,
   "id": "964ee0bf",
   "metadata": {},
   "outputs": [],
   "source": [
    "# Slicing is displaying the range of values\n",
    "# For slicing one needs to put the start value and stop +1 value\n",
    "# start: stop +1\n",
    "# Here : represents the range"
   ]
  },
  {
   "cell_type": "code",
   "execution_count": 32,
   "id": "df4afe38",
   "metadata": {},
   "outputs": [
    {
     "name": "stdout",
     "output_type": "stream",
     "text": [
      "[23, 23.5, 'abc']\n"
     ]
    }
   ],
   "source": [
    "print(mylist[0:3])"
   ]
  },
  {
   "cell_type": "code",
   "execution_count": 33,
   "id": "935b3943",
   "metadata": {},
   "outputs": [
    {
     "name": "stdout",
     "output_type": "stream",
     "text": [
      "[23, 23.5, 'abc'] [1, 2]\n"
     ]
    }
   ],
   "source": [
    "print(mylist[0:3], mylist [3])"
   ]
  },
  {
   "cell_type": "markdown",
   "id": "609602c5",
   "metadata": {},
   "source": [
    "Mutable and Immutable "
   ]
  },
  {
   "cell_type": "code",
   "execution_count": 34,
   "id": "04139e38",
   "metadata": {},
   "outputs": [],
   "source": [
    "# Mutlable objects can be changed ,while immutable are fixed once assigned.\n",
    "# Lists are mutable and Tuple are immutable"
   ]
  },
  {
   "cell_type": "code",
   "execution_count": 35,
   "id": "b65e1160",
   "metadata": {},
   "outputs": [
    {
     "name": "stdout",
     "output_type": "stream",
     "text": [
      "[23, 23.5, 'abc', [1, 2], True]\n"
     ]
    }
   ],
   "source": [
    "print(mylist)"
   ]
  },
  {
   "cell_type": "code",
   "execution_count": 36,
   "id": "c42da10d",
   "metadata": {},
   "outputs": [],
   "source": [
    "mylist[0]= 10"
   ]
  },
  {
   "cell_type": "code",
   "execution_count": 37,
   "id": "5ec66121",
   "metadata": {},
   "outputs": [
    {
     "name": "stdout",
     "output_type": "stream",
     "text": [
      "[10, 23.5, 'abc', [1, 2], True]\n"
     ]
    }
   ],
   "source": [
    "print(mylist)"
   ]
  },
  {
   "cell_type": "code",
   "execution_count": 41,
   "id": "af459a2b",
   "metadata": {},
   "outputs": [],
   "source": [
    "mytuple = (23, 23.5, 'abc', [1, 2], True)"
   ]
  },
  {
   "cell_type": "code",
   "execution_count": 42,
   "id": "dbae0980",
   "metadata": {},
   "outputs": [
    {
     "name": "stdout",
     "output_type": "stream",
     "text": [
      "(23, 23.5, 'abc', [1, 2], True)\n"
     ]
    }
   ],
   "source": [
    "print(mytuple)"
   ]
  },
  {
   "cell_type": "code",
   "execution_count": 40,
   "id": "66efbe1f",
   "metadata": {},
   "outputs": [
    {
     "ename": "TypeError",
     "evalue": "'tuple' object does not support item assignment",
     "output_type": "error",
     "traceback": [
      "\u001b[1;31m---------------------------------------------------------------------------\u001b[0m",
      "\u001b[1;31mTypeError\u001b[0m                                 Traceback (most recent call last)",
      "Cell \u001b[1;32mIn[40], line 1\u001b[0m\n\u001b[1;32m----> 1\u001b[0m mytupple[\u001b[38;5;241m0\u001b[39m]\u001b[38;5;241m=\u001b[39m \u001b[38;5;241m10\u001b[39m\n",
      "\u001b[1;31mTypeError\u001b[0m: 'tuple' object does not support item assignment"
     ]
    }
   ],
   "source": [
    "mytuple[0]= 10    #will display an error"
   ]
  },
  {
   "cell_type": "markdown",
   "id": "c9c6acee",
   "metadata": {},
   "source": [
    "Sets"
   ]
  },
  {
   "cell_type": "code",
   "execution_count": 43,
   "id": "efb2a175",
   "metadata": {},
   "outputs": [],
   "source": [
    "# Sets return only unique values"
   ]
  },
  {
   "cell_type": "code",
   "execution_count": 44,
   "id": "45b254c6",
   "metadata": {},
   "outputs": [],
   "source": [
    "d = [1,1,1,2,2,2,3,3,3]"
   ]
  },
  {
   "cell_type": "code",
   "execution_count": 46,
   "id": "85b1fc71",
   "metadata": {},
   "outputs": [
    {
     "data": {
      "text/plain": [
       "{1, 2, 3}"
      ]
     },
     "execution_count": 46,
     "metadata": {},
     "output_type": "execute_result"
    }
   ],
   "source": [
    "set(d)"
   ]
  },
  {
   "cell_type": "code",
   "execution_count": 47,
   "id": "662e8e13",
   "metadata": {},
   "outputs": [],
   "source": [
    "# Conversion of Sets to List "
   ]
  },
  {
   "cell_type": "code",
   "execution_count": 48,
   "id": "6169ae0a",
   "metadata": {},
   "outputs": [],
   "source": [
    " e = set(d)"
   ]
  },
  {
   "cell_type": "code",
   "execution_count": 49,
   "id": "e608aa97",
   "metadata": {},
   "outputs": [],
   "source": [
    "f = list(e)"
   ]
  },
  {
   "cell_type": "code",
   "execution_count": 50,
   "id": "a5923213",
   "metadata": {},
   "outputs": [
    {
     "data": {
      "text/plain": [
       "[1, 2, 3]"
      ]
     },
     "execution_count": 50,
     "metadata": {},
     "output_type": "execute_result"
    }
   ],
   "source": [
    "f"
   ]
  },
  {
   "cell_type": "markdown",
   "id": "4b937dc6",
   "metadata": {},
   "source": [
    "Dictionary"
   ]
  },
  {
   "cell_type": "code",
   "execution_count": 59,
   "id": "25fddc41",
   "metadata": {},
   "outputs": [],
   "source": [
    "# Dictionary are in the form of key and value\n",
    "mydict = {\"name\":\"Ninad\",\"age\":26,\"place\":\"Mumbai\"}"
   ]
  },
  {
   "cell_type": "code",
   "execution_count": 63,
   "id": "62feeb4e",
   "metadata": {},
   "outputs": [
    {
     "data": {
      "text/plain": [
       "'Ninad'"
      ]
     },
     "execution_count": 63,
     "metadata": {},
     "output_type": "execute_result"
    }
   ],
   "source": [
    "mydict[\"name\"]"
   ]
  },
  {
   "cell_type": "code",
   "execution_count": 64,
   "id": "679c1186",
   "metadata": {},
   "outputs": [
    {
     "data": {
      "text/plain": [
       "26"
      ]
     },
     "execution_count": 64,
     "metadata": {},
     "output_type": "execute_result"
    }
   ],
   "source": [
    "mydict[\"age\"]"
   ]
  },
  {
   "cell_type": "code",
   "execution_count": 65,
   "id": "ee3a357c",
   "metadata": {},
   "outputs": [],
   "source": [
    "list2 = [mydict[\"name\"],mydict[\"age\"]]"
   ]
  },
  {
   "cell_type": "code",
   "execution_count": 66,
   "id": "062ad60c",
   "metadata": {},
   "outputs": [
    {
     "data": {
      "text/plain": [
       "['Ninad', 26]"
      ]
     },
     "execution_count": 66,
     "metadata": {},
     "output_type": "execute_result"
    }
   ],
   "source": [
    "list2"
   ]
  },
  {
   "cell_type": "markdown",
   "id": "37e0e200",
   "metadata": {},
   "source": [
    "Append, Insert and Length"
   ]
  },
  {
   "cell_type": "code",
   "execution_count": 67,
   "id": "b8647570",
   "metadata": {},
   "outputs": [],
   "source": [
    "# Append --------> Appends the value at the end \n",
    "# Insert --------> Insert the value at the sepcified index \n",
    "# Length --------> Returns the length (total no of elements) in the list/tuple/set/dict\n",
    "abc = [1,2,3]"
   ]
  },
  {
   "cell_type": "code",
   "execution_count": 68,
   "id": "a54e831a",
   "metadata": {},
   "outputs": [
    {
     "data": {
      "text/plain": [
       "[1, 2, 3]"
      ]
     },
     "execution_count": 68,
     "metadata": {},
     "output_type": "execute_result"
    }
   ],
   "source": [
    "abc"
   ]
  },
  {
   "cell_type": "code",
   "execution_count": 71,
   "id": "1aa74933",
   "metadata": {},
   "outputs": [
    {
     "data": {
      "text/plain": [
       "3"
      ]
     },
     "execution_count": 71,
     "metadata": {},
     "output_type": "execute_result"
    }
   ],
   "source": [
    "len(\"abc\")"
   ]
  },
  {
   "cell_type": "code",
   "execution_count": 72,
   "id": "afc46e06",
   "metadata": {},
   "outputs": [],
   "source": [
    "abc.append(4)"
   ]
  },
  {
   "cell_type": "code",
   "execution_count": 73,
   "id": "0f36f963",
   "metadata": {},
   "outputs": [
    {
     "data": {
      "text/plain": [
       "[1, 2, 3, 4]"
      ]
     },
     "execution_count": 73,
     "metadata": {},
     "output_type": "execute_result"
    }
   ],
   "source": [
    "abc"
   ]
  },
  {
   "cell_type": "code",
   "execution_count": 74,
   "id": "561d0451",
   "metadata": {},
   "outputs": [],
   "source": [
    "abc.insert(1,5)"
   ]
  },
  {
   "cell_type": "code",
   "execution_count": 75,
   "id": "318a892d",
   "metadata": {},
   "outputs": [
    {
     "data": {
      "text/plain": [
       "[1, 5, 2, 3, 4]"
      ]
     },
     "execution_count": 75,
     "metadata": {},
     "output_type": "execute_result"
    }
   ],
   "source": [
    "abc"
   ]
  },
  {
   "cell_type": "markdown",
   "id": "495e3402",
   "metadata": {},
   "source": [
    "if elif & else"
   ]
  },
  {
   "cell_type": "code",
   "execution_count": 76,
   "id": "d428d58c",
   "metadata": {},
   "outputs": [],
   "source": [
    "var = 12"
   ]
  },
  {
   "cell_type": "code",
   "execution_count": 81,
   "id": "9cf560f0",
   "metadata": {},
   "outputs": [
    {
     "name": "stdout",
     "output_type": "stream",
     "text": [
      "yes\n"
     ]
    }
   ],
   "source": [
    "#While writing if, elif and else we always type ':' after writing if, elif and else and also one has to make sure\n",
    "#to keep the induntation (space)\n",
    "if var > 13:\n",
    "    print('Hello!')   \n",
    "elif var == 12:\n",
    "        print('yes')\n",
    "else:\n",
    "        print('bye')\n",
    "    "
   ]
  },
  {
   "cell_type": "markdown",
   "id": "9acbb379",
   "metadata": {},
   "source": [
    "input function"
   ]
  },
  {
   "cell_type": "code",
   "execution_count": 82,
   "id": "25f24fa3",
   "metadata": {},
   "outputs": [],
   "source": [
    "#input function will ask the user to input a value\n",
    "#However, since input function is by default a string data-type we have to make sure to use the desire data type before it"
   ]
  },
  {
   "cell_type": "code",
   "execution_count": 83,
   "id": "52c11e23",
   "metadata": {},
   "outputs": [
    {
     "name": "stdout",
     "output_type": "stream",
     "text": [
      "Enter 1st no: 10\n",
      "Enter 2nd no: 20\n"
     ]
    }
   ],
   "source": [
    "a = int(input(\"Enter 1st no: \"))\n",
    "b = int(input(\"Enter 2nd no: \"))"
   ]
  },
  {
   "cell_type": "code",
   "execution_count": 84,
   "id": "c7e2b222",
   "metadata": {},
   "outputs": [],
   "source": [
    "c = a+b "
   ]
  },
  {
   "cell_type": "code",
   "execution_count": 85,
   "id": "a82225d3",
   "metadata": {},
   "outputs": [
    {
     "data": {
      "text/plain": [
       "30"
      ]
     },
     "execution_count": 85,
     "metadata": {},
     "output_type": "execute_result"
    }
   ],
   "source": [
    "c"
   ]
  },
  {
   "cell_type": "code",
   "execution_count": 86,
   "id": "1dae36bc",
   "metadata": {},
   "outputs": [],
   "source": [
    "# Question: \n",
    "# Assign grades as per the criteria"
   ]
  },
  {
   "cell_type": "code",
   "execution_count": 111,
   "id": "112e84f4",
   "metadata": {},
   "outputs": [
    {
     "name": "stdout",
     "output_type": "stream",
     "text": [
      "Enter your marks: 101\n"
     ]
    }
   ],
   "source": [
    "inputMarks= int(input(\"Enter your marks: \"))"
   ]
  },
  {
   "cell_type": "code",
   "execution_count": 112,
   "id": "931b7978",
   "metadata": {},
   "outputs": [
    {
     "name": "stdout",
     "output_type": "stream",
     "text": [
      "Invalid marks\n"
     ]
    }
   ],
   "source": [
    "\n",
    "if inputMarks >= 75 and inputMarks <= 100 :\n",
    "    print('Grade A')   \n",
    "elif inputMarks >= 50 and inputMarks < 75:\n",
    "    print('Grade B')\n",
    "elif inputMarks >= 35 and inputMarks < 50:\n",
    "    print('Grade C')\n",
    "elif inputMarks >= 0 and inputMarks < 35:\n",
    "    print('Fail')\n",
    "else:\n",
    "    print('Invalid marks')\n",
    "    \n",
    "    "
   ]
  },
  {
   "cell_type": "markdown",
   "id": "1ab7626f",
   "metadata": {},
   "source": [
    "for loop"
   ]
  },
  {
   "cell_type": "code",
   "execution_count": 115,
   "id": "600c2a5e",
   "metadata": {},
   "outputs": [
    {
     "name": "stdout",
     "output_type": "stream",
     "text": [
      "0\n",
      "1\n",
      "2\n",
      "3\n",
      "4\n",
      "5\n",
      "6\n",
      "7\n",
      "8\n",
      "9\n"
     ]
    }
   ],
   "source": [
    "for i in range(0,10):\n",
    "    print(i)\n"
   ]
  },
  {
   "cell_type": "code",
   "execution_count": 128,
   "id": "3765bbd3",
   "metadata": {},
   "outputs": [
    {
     "name": "stdout",
     "output_type": "stream",
     "text": [
      "2 * 1 = 2\n",
      "2 * 2 = 4\n",
      "2 * 3 = 6\n",
      "2 * 4 = 8\n",
      "2 * 5 = 10\n",
      "2 * 6 = 12\n",
      "2 * 7 = 14\n",
      "2 * 8 = 16\n",
      "2 * 9 = 18\n",
      "2 * 10 = 20\n"
     ]
    }
   ],
   "source": [
    "#print the table of 2 using for loop\n",
    "\n",
    "for i in range(1,11):\n",
    "\n",
    "    print(\"2\",\"*\",i,\"=\",2*i)"
   ]
  },
  {
   "cell_type": "code",
   "execution_count": 129,
   "id": "d9153466",
   "metadata": {},
   "outputs": [],
   "source": [
    "#Seggreggate the following my_list into different data types\n",
    "\n",
    "my_list= [23, 'hello','hi',45.9,'bye',12,76,'zero',0,99,[23,'one',12.7],77,11,(6,2,0),11.0]"
   ]
  },
  {
   "cell_type": "code",
   "execution_count": 130,
   "id": "dcac3bec",
   "metadata": {},
   "outputs": [
    {
     "data": {
      "text/plain": [
       "[23,\n",
       " 'hello',\n",
       " 'hi',\n",
       " 45.9,\n",
       " 'bye',\n",
       " 12,\n",
       " 76,\n",
       " 'zero',\n",
       " 0,\n",
       " 99,\n",
       " [23, 'one', 12.7],\n",
       " 77,\n",
       " 11,\n",
       " (6, 2, 0),\n",
       " 11.0]"
      ]
     },
     "execution_count": 130,
     "metadata": {},
     "output_type": "execute_result"
    }
   ],
   "source": [
    "my_list"
   ]
  },
  {
   "cell_type": "code",
   "execution_count": 187,
   "id": "0086e37a",
   "metadata": {},
   "outputs": [
    {
     "name": "stdout",
     "output_type": "stream",
     "text": [
      "[23, 12, 76, 0, 99, 77, 11]\n",
      "['hello', 'hi', 'bye', 'zero']\n",
      "[45.9, 11.0]\n",
      "[(6, 2, 0)]\n",
      "[[23, 'one', 12.7]]\n"
     ]
    }
   ],
   "source": [
    "list_of_integers1=[]\n",
    "list_of_string1=[]\n",
    "list_of_float1=[]\n",
    "list_of_tuple1=[]\n",
    "list_of_list1=[]\n",
    "\n",
    "for i in my_list:\n",
    "    if type(i)==int:\n",
    "        list_of_integers1.append(i)\n",
    "    elif type(i)==str:\n",
    "        list_of_string1.append(i)\n",
    "    elif type(i)==float:\n",
    "        list_of_float1.append(i)\n",
    "    elif type(i)==tuple:\n",
    "        list_of_tuple1.append(i)\n",
    "    elif type(i)==list:\n",
    "        list_of_list1.append(i)\n",
    "        \n",
    "print(list_of_integers1)\n",
    "print(list_of_string1)\n",
    "print(list_of_float1)\n",
    "print(list_of_tuple1)\n",
    "print(list_of_list1)"
   ]
  },
  {
   "cell_type": "code",
   "execution_count": null,
   "id": "d559a7e2",
   "metadata": {},
   "outputs": [],
   "source": []
  }
 ],
 "metadata": {
  "kernelspec": {
   "display_name": "Python 3 (ipykernel)",
   "language": "python",
   "name": "python3"
  },
  "language_info": {
   "codemirror_mode": {
    "name": "ipython",
    "version": 3
   },
   "file_extension": ".py",
   "mimetype": "text/x-python",
   "name": "python",
   "nbconvert_exporter": "python",
   "pygments_lexer": "ipython3",
   "version": "3.11.5"
  }
 },
 "nbformat": 4,
 "nbformat_minor": 5
}
